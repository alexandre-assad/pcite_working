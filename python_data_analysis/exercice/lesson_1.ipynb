{
 "cells": [
  {
   "cell_type": "code",
   "execution_count": 71,
   "id": "3c70e3b3",
   "metadata": {},
   "outputs": [
    {
     "name": "stdout",
     "output_type": "stream",
     "text": [
      "<class 'pandas.core.frame.DataFrame'>\n",
      "RangeIndex: 891 entries, 0 to 890\n",
      "Data columns (total 12 columns):\n",
      " #   Column       Non-Null Count  Dtype  \n",
      "---  ------       --------------  -----  \n",
      " 0   PassengerId  891 non-null    int64  \n",
      " 1   Survived     891 non-null    int64  \n",
      " 2   Pclass       891 non-null    int64  \n",
      " 3   Name         891 non-null    object \n",
      " 4   Sex          891 non-null    object \n",
      " 5   Age          714 non-null    float64\n",
      " 6   SibSp        891 non-null    int64  \n",
      " 7   Parch        891 non-null    int64  \n",
      " 8   Ticket       891 non-null    object \n",
      " 9   Fare         891 non-null    float64\n",
      " 10  Cabin        204 non-null    object \n",
      " 11  Embarked     889 non-null    object \n",
      "dtypes: float64(2), int64(5), object(5)\n",
      "memory usage: 83.7+ KB\n"
     ]
    }
   ],
   "source": [
    "from pandas import read_csv\n",
    "\n",
    "\n",
    "dataframe = read_csv('titanic.csv')\n",
    "dataframe.info()"
   ]
  },
  {
   "cell_type": "markdown",
   "id": "4b6579ca",
   "metadata": {},
   "source": [
    "1. How many records ?\n",
    "There are 891 records and 12 features"
   ]
  },
  {
   "cell_type": "code",
   "execution_count": 72,
   "id": "180dc241",
   "metadata": {},
   "outputs": [
    {
     "name": "stdout",
     "output_type": "stream",
     "text": [
      "89\n"
     ]
    }
   ],
   "source": [
    "print(len(dataframe['Age'].unique()))"
   ]
  },
  {
   "cell_type": "markdown",
   "id": "d4acbb2d",
   "metadata": {},
   "source": [
    "2. How many different values for Age ?\n",
    "There are 89 different values"
   ]
  },
  {
   "cell_type": "code",
   "execution_count": 73,
   "id": "e447e062",
   "metadata": {},
   "outputs": [
    {
     "data": {
      "text/plain": [
       "{'whiskers': [<matplotlib.lines.Line2D at 0x17cf7103bc0>,\n",
       "  <matplotlib.lines.Line2D at 0x17cf7103da0>],\n",
       " 'caps': [<matplotlib.lines.Line2D at 0x17cf71025a0>,\n",
       "  <matplotlib.lines.Line2D at 0x17cf7103c50>],\n",
       " 'boxes': [<matplotlib.lines.Line2D at 0x17cf7102f90>],\n",
       " 'medians': [<matplotlib.lines.Line2D at 0x17cf7102510>],\n",
       " 'fliers': [<matplotlib.lines.Line2D at 0x17cf7100f50>],\n",
       " 'means': []}"
      ]
     },
     "execution_count": 73,
     "metadata": {},
     "output_type": "execute_result"
    },
    {
     "data": {
      "image/png": "[encoded data removed]",
      "text/plain": [
       "<Figure size 640x480 with 1 Axes>"
      ]
     },
     "metadata": {},
     "output_type": "display_data"
    }
   ],
   "source": [
    "from matplotlib.pyplot import boxplot\n",
    "\n",
    "\n",
    "boxplot(dataframe['Fare'])\n"
   ]
  },
  {
   "cell_type": "code",
   "execution_count": 74,
   "id": "4bc18296",
   "metadata": {},
   "outputs": [
    {
     "data": {
      "text/plain": [
       "<Axes: >"
      ]
     },
     "execution_count": 74,
     "metadata": {},
     "output_type": "execute_result"
    },
    {
     "data": {
      "image/png": "[encoded data removed]",
      "text/plain": [
       "<Figure size 640x480 with 1 Axes>"
      ]
     },
     "metadata": {},
     "output_type": "display_data"
    }
   ],
   "source": [
    "dataframe['Fare'].plot(kind='box')"
   ]
  },
  {
   "cell_type": "code",
   "execution_count": 75,
   "id": "e19e74b2",
   "metadata": {},
   "outputs": [
    {
     "name": "stdout",
     "output_type": "stream",
     "text": [
      "    PassengerId  Survived  Pclass                             Name     Sex  \\\n",
      "0           804         1       3  Thomas, Master. Assad Alexander    male   \n",
      "1           756         1       2        Hamalainen, Master. Viljo    male   \n",
      "2           470         1       3    Baclini, Miss. Helene Barbara  female   \n",
      "3           645         1       3           Baclini, Miss. Eugenie  female   \n",
      "4            79         1       2    Caldwell, Master. Alden Gates    male   \n",
      "5           832         1       2  Richards, Master. George Sibley    male   \n",
      "6           306         1       1   Allison, Master. Hudson Trevor    male   \n",
      "7           165         0       3     Panula, Master. Eino Viljami    male   \n",
      "8           184         1       2        Becker, Master. Richard F    male   \n",
      "9           173         1       3     Johnson, Miss. Eleanor Ileen  female   \n",
      "10          382         1       3      Nakid, Miss. Maria (\"Mary\")  female   \n",
      "11          789         1       3       Dean, Master. Bertram Vere    male   \n",
      "12          387         0       3  Goodwin, Master. Sidney Leonard    male   \n",
      "13          828         1       2            Mallet, Master. Andre    male   \n",
      "14          480         1       3         Hirvonen, Miss. Hildur E  female   \n",
      "\n",
      "     Age  SibSp  Parch           Ticket      Fare    Cabin Embarked  \n",
      "0   0.42      0      1             2625    8.5167      NaN        C  \n",
      "1   0.67      1      1           250649   14.5000      NaN        S  \n",
      "2   0.75      2      1             2666   19.2583      NaN        C  \n",
      "3   0.75      2      1             2666   19.2583      NaN        C  \n",
      "4   0.83      0      2           248738   29.0000      NaN        S  \n",
      "5   0.83      1      1            29106   18.7500      NaN        S  \n",
      "6   0.92      1      2           113781  151.5500  C22 C26        S  \n",
      "7   1.00      4      1          3101295   39.6875      NaN        S  \n",
      "8   1.00      2      1           230136   39.0000       F4        S  \n",
      "9   1.00      1      1           347742   11.1333      NaN        S  \n",
      "10  1.00      0      2             2653   15.7417      NaN        C  \n",
      "11  1.00      1      2        C.A. 2315   20.5750      NaN        S  \n",
      "12  1.00      5      2          CA 2144   46.9000      NaN        S  \n",
      "13  1.00      0      2  S.C./PARIS 2079   37.0042      NaN        C  \n",
      "14  2.00      0      1          3101298   12.2875      NaN        S  \n"
     ]
    }
   ],
   "source": [
    "dataframe_order_age = dataframe.sort_values('Age', ignore_index=True)\n",
    "print(dataframe_order_age.head(15))"
   ]
  },
  {
   "cell_type": "code",
   "execution_count": 76,
   "id": "5e695e6f",
   "metadata": {},
   "outputs": [
    {
     "name": "stdout",
     "output_type": "stream",
     "text": [
      "['male' 'female']\n",
      "30.72664459161148\n"
     ]
    }
   ],
   "source": [
    "print(dataframe['Sex'].unique())\n",
    "dataframe_male = dataframe[dataframe['Sex']=='male']\n",
    "print(dataframe_male['Age'].mean())"
   ]
  },
  {
   "cell_type": "code",
   "execution_count": 77,
   "id": "5f577cd1",
   "metadata": {},
   "outputs": [
    {
     "name": "stdout",
     "output_type": "stream",
     "text": [
      "7\n"
     ]
    }
   ],
   "source": [
    "print(len(dataframe[dataframe['Age']>= 70]))"
   ]
  },
  {
   "cell_type": "code",
   "execution_count": 78,
   "id": "e848f9b0",
   "metadata": {},
   "outputs": [
    {
     "name": "stdout",
     "output_type": "stream",
     "text": [
      "     PassengerId  Survived  Pclass  \\\n",
      "1              2         1       1   \n",
      "3              4         1       1   \n",
      "4              5         0       3   \n",
      "13            14         0       3   \n",
      "18            19         0       3   \n",
      "..           ...       ...     ...   \n",
      "867          868         0       1   \n",
      "872          873         0       1   \n",
      "881          882         0       3   \n",
      "885          886         0       3   \n",
      "890          891         0       3   \n",
      "\n",
      "                                                  Name     Sex   Age  SibSp  \\\n",
      "1    Cumings, Mrs. John Bradley (Florence Briggs Th...  female  38.0      1   \n",
      "3         Futrelle, Mrs. Jacques Heath (Lily May Peel)  female  35.0      1   \n",
      "4                             Allen, Mr. William Henry    male  35.0      0   \n",
      "13                         Andersson, Mr. Anders Johan    male  39.0      1   \n",
      "18   Vander Planke, Mrs. Julius (Emelia Maria Vande...  female  31.0      1   \n",
      "..                                                 ...     ...   ...    ...   \n",
      "867               Roebling, Mr. Washington Augustus II    male  31.0      0   \n",
      "872                           Carlsson, Mr. Frans Olof    male  33.0      0   \n",
      "881                                 Markun, Mr. Johann    male  33.0      0   \n",
      "885               Rice, Mrs. William (Margaret Norton)  female  39.0      0   \n",
      "890                                Dooley, Mr. Patrick    male  32.0      0   \n",
      "\n",
      "     Parch    Ticket     Fare        Cabin Embarked  \n",
      "1        0  PC 17599  71.2833          C85        C  \n",
      "3        0    113803  53.1000         C123        S  \n",
      "4        0    373450   8.0500          NaN        S  \n",
      "13       5    347082  31.2750          NaN        S  \n",
      "18       0    345763  18.0000          NaN        S  \n",
      "..     ...       ...      ...          ...      ...  \n",
      "867      0  PC 17590  50.4958          A24        S  \n",
      "872      0       695   5.0000  B51 B53 B55        S  \n",
      "881      0    349257   7.8958          NaN        S  \n",
      "885      5    382652  29.1250          NaN        Q  \n",
      "890      0    370376   7.7500          NaN        Q  \n",
      "\n",
      "[180 rows x 12 columns]\n"
     ]
    }
   ],
   "source": [
    "print(dataframe[(dataframe['Age'] >= 30) & (dataframe['Age'] <= 40)])"
   ]
  },
  {
   "cell_type": "code",
   "execution_count": 79,
   "id": "a52ac3a3",
   "metadata": {},
   "outputs": [
    {
     "name": "stdout",
     "output_type": "stream",
     "text": [
      "Title\n",
      "Mr              517\n",
      "Miss            182\n",
      "Mrs             125\n",
      "Master           40\n",
      "Dr                7\n",
      "Rev               6\n",
      "Col               2\n",
      "Mlle              2\n",
      "Major             2\n",
      "Ms                1\n",
      "Mme               1\n",
      "Don               1\n",
      "Lady              1\n",
      "Sir               1\n",
      "Capt              1\n",
      "the Countess      1\n",
      "Jonkheer          1\n",
      "Name: count, dtype: int64\n",
      "       Surname                             First_name  \\\n",
      "0       Braund                            Owen Harris   \n",
      "1      Cumings  John Bradley (Florence Briggs Thayer)   \n",
      "2    Heikkinen                                  Laina   \n",
      "3     Futrelle          Jacques Heath (Lily May Peel)   \n",
      "4        Allen                          William Henry   \n",
      "..         ...                                    ...   \n",
      "886   Montvila                                 Juozas   \n",
      "887     Graham                         Margaret Edith   \n",
      "888   Johnston               Catherine Helen \"Carrie\"   \n",
      "889       Behr                            Karl Howell   \n",
      "890     Dooley                                Patrick   \n",
      "\n",
      "                                                  Name  \n",
      "0                              Braund, Mr. Owen Harris  \n",
      "1    Cumings, Mrs. John Bradley (Florence Briggs Th...  \n",
      "2                               Heikkinen, Miss. Laina  \n",
      "3         Futrelle, Mrs. Jacques Heath (Lily May Peel)  \n",
      "4                             Allen, Mr. William Henry  \n",
      "..                                                 ...  \n",
      "886                              Montvila, Rev. Juozas  \n",
      "887                       Graham, Miss. Margaret Edith  \n",
      "888           Johnston, Miss. Catherine Helen \"Carrie\"  \n",
      "889                              Behr, Mr. Karl Howell  \n",
      "890                                Dooley, Mr. Patrick  \n",
      "\n",
      "[891 rows x 3 columns]\n"
     ]
    }
   ],
   "source": [
    "dataframe['Surname'] = dataframe['Name'].apply(lambda x : x.split(',')[0])\n",
    "dataframe['Title'] = dataframe['Name'].apply(lambda x : x.split(',')[1].split('.')[0].strip())\n",
    "dataframe['First_name'] = dataframe['Name'].apply(lambda x : x.split(',')[1].split('.')[1].strip())\n",
    "print(dataframe['Title'].value_counts())\n",
    "print(dataframe[['Surname', 'First_name', 'Name']])"
   ]
  },
  {
   "cell_type": "code",
   "execution_count": 80,
   "id": "025b93fb",
   "metadata": {},
   "outputs": [
    {
     "name": "stdout",
     "output_type": "stream",
     "text": [
      "     PassengerId  Survived  Pclass                                    Name  \\\n",
      "17            18         1       2            Williams, Mr. Charles Eugene   \n",
      "155          156         0       1             Williams, Mr. Charles Duane   \n",
      "304          305         0       3       Williams, Mr. Howard Hugh \"Harry\"   \n",
      "351          352         0       1  Williams-Lambert, Mr. Fletcher Fellows   \n",
      "735          736         0       3                    Williams, Mr. Leslie   \n",
      "\n",
      "      Sex   Age  SibSp  Parch    Ticket     Fare Cabin Embarked  \\\n",
      "17   male   NaN      0      0    244373  13.0000   NaN        S   \n",
      "155  male  51.0      0      1  PC 17597  61.3792   NaN        C   \n",
      "304  male   NaN      0      0  A/5 2466   8.0500   NaN        S   \n",
      "351  male   NaN      0      0    113510  35.0000  C128        S   \n",
      "735  male  28.5      0      0     54636  16.1000   NaN        S   \n",
      "\n",
      "              Surname Title           First_name  \n",
      "17           Williams    Mr       Charles Eugene  \n",
      "155          Williams    Mr        Charles Duane  \n",
      "304          Williams    Mr  Howard Hugh \"Harry\"  \n",
      "351  Williams-Lambert    Mr     Fletcher Fellows  \n",
      "735          Williams    Mr               Leslie  \n"
     ]
    }
   ],
   "source": [
    "print(dataframe[dataframe['Surname'].str.startswith('Williams')])"
   ]
  },
  {
   "cell_type": "code",
   "execution_count": 85,
   "id": "a7ee1773",
   "metadata": {},
   "outputs": [
    {
     "name": "stdout",
     "output_type": "stream",
     "text": [
      "Sex\n",
      "female    27.915709\n",
      "male      30.726645\n",
      "Name: Age, dtype: float64\n"
     ]
    }
   ],
   "source": [
    "print(dataframe.groupby('Sex')['Age'].mean())"
   ]
  },
  {
   "cell_type": "code",
   "execution_count": null,
   "id": "f66e5172",
   "metadata": {},
   "outputs": [
    {
     "name": "stdout",
     "output_type": "stream",
     "text": [
      "Is_under_25\n",
      "False    0.365416\n",
      "True     0.424460\n",
      "Name: Survived, dtype: float64\n"
     ]
    }
   ],
   "source": [
    "dataframe['Is_under_25'] = dataframe['Age'] < 25\n",
    "print(dataframe.groupby('Is_under_25')['Survived'].mean())"
   ]
  },
  {
   "cell_type": "code",
   "execution_count": 96,
   "id": "2bbc103b",
   "metadata": {},
   "outputs": [
    {
     "data": {
      "text/plain": [
       "Age\n",
       "False    0.365416\n",
       "True     0.424460\n",
       "Name: Survived, dtype: float64"
      ]
     },
     "execution_count": 96,
     "metadata": {},
     "output_type": "execute_result"
    }
   ],
   "source": [
    "dataframe.groupby(dataframe['Age'] < 25)['Survived'].mean()"
   ]
  },
  {
   "cell_type": "code",
   "execution_count": 95,
   "id": "9bafb9fb",
   "metadata": {},
   "outputs": [
    {
     "name": "stdout",
     "output_type": "stream",
     "text": [
      "Pclass           1                   2                3          \n",
      "Sex         female      male    female      male female      male\n",
      "Survived  0.968085  0.368852  0.921053  0.157407    0.5  0.135447\n"
     ]
    }
   ],
   "source": [
    "from pandas import pivot_table\n",
    "\n",
    "\n",
    "pivot_t = pivot_table(dataframe, values='Survived', columns=['Pclass', 'Sex'], aggfunc='mean')\n",
    "print(pivot_t)"
   ]
  }
 ],
 "metadata": {
  "kernelspec": {
   "display_name": "pcite-working",
   "language": "python",
   "name": "python3"
  },
  "language_info": {
   "codemirror_mode": {
    "name": "ipython",
    "version": 3
   },
   "file_extension": ".py",
   "mimetype": "text/x-python",
   "name": "python",
   "nbconvert_exporter": "python",
   "pygments_lexer": "ipython3",
   "version": "3.12.11"
  }
 },
 "nbformat": 4,
 "nbformat_minor": 5
}
