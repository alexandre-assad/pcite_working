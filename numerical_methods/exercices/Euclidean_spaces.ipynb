{
  "cells": [
    {
      "cell_type": "markdown",
      "id": "a6ca9dc4",
      "metadata": {
        "id": "a6ca9dc4"
      },
      "source": [
        "Before you turn this problem in, make sure everything runs as expected. First, **restart the kernel** (in the menubar, select Kernel$\\rightarrow$Restart) and then **run all cells** (in the menubar, select Cell$\\rightarrow$Run All).\n",
        "\n",
        "Make sure you fill in any place that says `YOUR CODE HERE` or \"YOUR ANSWER HERE\", as well as your name and collaborators below:"
      ]
    },
    {
      "cell_type": "code",
      "execution_count": 5,
      "id": "0a138615",
      "metadata": {
        "id": "0a138615"
      },
      "outputs": [],
      "source": [
        "NAME = \"\"\n",
        "COLLABORATORS = \"\""
      ]
    },
    {
      "cell_type": "markdown",
      "id": "0c9140d4",
      "metadata": {
        "id": "0c9140d4"
      },
      "source": [
        "---"
      ]
    },
    {
      "cell_type": "markdown",
      "id": "edfedad6-6b02-4c04-a237-06016666d8ff",
      "metadata": {
        "id": "edfedad6-6b02-4c04-a237-06016666d8ff"
      },
      "source": [
        "Euclidean spaces : exercises\n",
        "======\n",
        "\n",
        "Implement the following functions with `numpy`"
      ]
    },
    {
      "cell_type": "code",
      "execution_count": 6,
      "id": "86382a85-14da-4009-bac6-07d6e90c70c7",
      "metadata": {
        "deletable": false,
        "id": "86382a85-14da-4009-bac6-07d6e90c70c7",
        "nbgrader": {
          "checksum": "f63b76552fe0b5c672c58da28c7b87bf",
          "grade": false,
          "grade_id": "cell-07f8f2b2f5e66f98",
          "locked": false,
          "schema_version": 3,
          "solution": true,
          "task": false
        }
      },
      "outputs": [],
      "source": [
        "from math import sqrt\n",
        "import numpy as np\n",
        "\n",
        "\n",
        "def norm(x):\n",
        "    \"\"\"\n",
        "    Args:\n",
        "      x (np.array): vector\n",
        "    Returns:\n",
        "      float. the norm of x\n",
        "    \"\"\"\n",
        "    return sqrt(x.transpose()@x)\n",
        "    \n",
        "\n",
        "def distance(x,y):\n",
        "    \"\"\"\n",
        "    Args:\n",
        "       x (np.array): vector\n",
        "       y (np.array): vector\n",
        "    Returns:\n",
        "       float. the euclidean distance between x and y\n",
        "    \"\"\"\n",
        "    return sqrt((x-y).transpose()@(x-y))\n",
        "\n",
        "def similarity(x,y):\n",
        "    \"\"\"\n",
        "    Args:\n",
        "       x (np.array): vector\n",
        "       y (np.array): vector\n",
        "    Returns:\n",
        "\tfloat. the cosine of the angle between x and y\n",
        "    \"\"\"\n",
        "    # YOUR CODE HERE\n",
        "    return (x.transpose()@y)/(norm(x)*norm(y))\n",
        "\n",
        "def is_orthogonal(x,y):\n",
        "    \"\"\"\n",
        "    Args:\n",
        "       x (np.array): vector\n",
        "       y (np.array): vector\n",
        "    Returns:\n",
        "\tbool. True if x and y are orthogonal, False otherwise.\n",
        "    \"\"\"\n",
        "    # YOUR CODE HERE\n",
        "    return similarity(x, y) == 0\n",
        "\n"
      ]
    },
    {
      "cell_type": "markdown",
      "id": "3650b98e-9e86-42c4-8ae6-3abc0909ee4c",
      "metadata": {
        "id": "3650b98e-9e86-42c4-8ae6-3abc0909ee4c"
      },
      "source": [
        "Euclidean spaces\n",
        "===="
      ]
    },
    {
      "cell_type": "markdown",
      "id": "62c8d914-44b0-4b29-a996-f033c0d94ca5",
      "metadata": {
        "id": "62c8d914-44b0-4b29-a996-f033c0d94ca5"
      },
      "source": [
        "Use numpy or the functions you defined above to solve the following exercises.\n",
        "Check manually that your solutions are correct."
      ]
    },
    {
      "cell_type": "code",
      "execution_count": 14,
      "id": "d0b09218-9620-468f-89e4-5e0def20d169",
      "metadata": {
        "deletable": false,
        "id": "d0b09218-9620-468f-89e4-5e0def20d169",
        "nbgrader": {
          "checksum": "c606311a91bb64b53bede693949e4d41",
          "grade": false,
          "grade_id": "cell-fe892b56e47d62ba",
          "locked": false,
          "schema_version": 3,
          "solution": true,
          "task": false
        }
      },
      "outputs": [
        {
          "name": "stdout",
          "output_type": "stream",
          "text": [
            "[2 6 3]\n",
            "[-4  4  1]\n",
            "[-0.18257419  0.91287093  0.36514837]\n",
            "2.8722813232690143\n",
            "3.5\n",
            "[-7  3  0]\n",
            "False\n",
            "False\n"
          ]
        }
      ],
      "source": [
        "# Vectors and distances\n",
        "\n",
        "x = np.array([-1,5,2])\n",
        "y = np.array([3,1,1])\n",
        "\n",
        "sum_vector = x+y\n",
        "print(sum_vector)\n",
        "\n",
        "diff_vector = x-y\n",
        "print(diff_vector)\n",
        "\n",
        "# Compute x / ||x||\n",
        "print(x/norm(x))\n",
        "\n",
        "# Compute || 0.5(x-y)||\n",
        "print(norm(0.5*(x-y)))\n",
        "\n",
        "# Compute || 0.5(x+y)||\n",
        "print(norm(0.5*(x+y)))\n",
        "\n",
        "\n",
        "# Compute x - 2y\n",
        "print(x - 2*y)\n",
        "\n",
        "# Does || x-y || = ||x|| - ||y|| ?\n",
        "print(distance(x, y) == norm(x)-norm(y))\n",
        "\n",
        "\n",
        "# Does || x+y || = ||x|| + ||y|| ?\n",
        "print(norm(x+y) == norm(x)-norm(y))\n"
      ]
    },
    {
      "cell_type": "code",
      "execution_count": null,
      "id": "5490e0ee-b2fa-4bed-817f-35ff8fa6e713",
      "metadata": {
        "deletable": false,
        "id": "5490e0ee-b2fa-4bed-817f-35ff8fa6e713",
        "nbgrader": {
          "checksum": "e8952b0c426af7cba4d19c55da8f3807",
          "grade": false,
          "grade_id": "cell-26aff4ece8fcbf16",
          "locked": false,
          "schema_version": 3,
          "solution": true,
          "task": false
        }
      },
      "outputs": [
        {
          "name": "stdout",
          "output_type": "stream",
          "text": [
            "16.336916024886914\n"
          ]
        },
        {
          "ename": "TypeError",
          "evalue": "math.cos() takes exactly one argument (2 given)",
          "output_type": "error",
          "traceback": [
            "\u001b[31m---------------------------------------------------------------------------\u001b[39m",
            "\u001b[31mTypeError\u001b[39m                                 Traceback (most recent call last)",
            "\u001b[36mCell\u001b[39m\u001b[36m \u001b[39m\u001b[32mIn[35]\u001b[39m\u001b[32m, line 14\u001b[39m\n\u001b[32m     12\u001b[39m \u001b[38;5;66;03m# YOUR CODE HERE\u001b[39;00m\n\u001b[32m     13\u001b[39m \u001b[38;5;28mprint\u001b[39m(degrees(similarity(x, y)))\n\u001b[32m---> \u001b[39m\u001b[32m14\u001b[39m \u001b[38;5;28mprint\u001b[39m(degrees(\u001b[43mcos\u001b[49m\u001b[43m(\u001b[49m\u001b[43mx\u001b[49m\u001b[43m,\u001b[49m\u001b[43my\u001b[49m\u001b[43m)\u001b[49m))\n\u001b[32m     15\u001b[39m \u001b[38;5;66;03m#Compute the angle (in degrees) between x and y\u001b[39;00m\n\u001b[32m     16\u001b[39m x = np.array([\u001b[32m7\u001b[39m,\u001b[32m2\u001b[39m,-\u001b[32m10\u001b[39m])\n",
            "\u001b[31mTypeError\u001b[39m: math.cos() takes exactly one argument (2 given)"
          ]
        }
      ],
      "source": [
        "# Angles\n",
        "\n",
        "#Compute the angle (in degrees) between x and y\n",
        "\n",
        "from math import pi\n",
        "from numpy import cos, degrees, rad2deg\n",
        "\n",
        "\n",
        "x = np.array([5,1,-2], float)\n",
        "y = np.array([4,-4,3], float)\n",
        "\n",
        "# YOUR CODE HERE\n",
        "print(degrees(similarity(x, y)))\n",
        "\n",
        "#Compute the angle (in degrees) between x and y\n",
        "x = np.array([7,2,-10])\n",
        "y = np.array([2,6,4])\n",
        "\n",
        "# YOUR CODE HERE\n",
        "print(degrees(similarity(x, y))) #We can add 2pi to be sure of a positive radiants\n",
        "\n",
        "\n",
        "#Are x and y orthogonal ?\n",
        "\n",
        "x = np.array([8,4,3])\n",
        "y = np.array([-2,1,4])\n",
        "\n",
        "# YOUR CODE HERE\n",
        "print(is_orthogonal(x, y))\n",
        "\n",
        "#Are x and y orthogonal ?\n",
        "\n",
        "x = np.array([6,0,4])\n",
        "y = np.array([0,2,-1])\n",
        "\n",
        "print(is_orthogonal(x, y))\n",
        "\n",
        "# Check Cauchy Schwarz is  true on the example:\n",
        "x = np.array([2,1,4])\n",
        "y = np.array([1,-2,0])\n",
        "\n",
        "print(x.transpose().dot(y)<=(norm(x)*norm(y)))\n",
        "\n",
        "#Also check that the triangle inequality is true\n",
        "print(norm(x+y)<=norm(x)+norm(y))\n",
        "\n",
        "\n",
        "# Check Cauchy Schwarz is  true on the example:\n",
        "x = np.array([4,2,-1])\n",
        "y = np.array([8,4,-2])\n",
        "\n",
        "# YOUR CODE HERE\n",
        "print(x.transpose().dot(y)<=(norm(x)*norm(y)))\n",
        "\n",
        "#Also check that the triangle inequality is true\n",
        "# YOUR CODE HERE\n",
        "print(norm(x+y)<=norm(x)+norm(y))\n"
      ]
    }
  ],
  "metadata": {
    "colab": {
      "provenance": []
    },
    "kernelspec": {
      "display_name": "pcite-working",
      "language": "python",
      "name": "python3"
    },
    "language_info": {
      "codemirror_mode": {
        "name": "ipython",
        "version": 3
      },
      "file_extension": ".py",
      "mimetype": "text/x-python",
      "name": "python",
      "nbconvert_exporter": "python",
      "pygments_lexer": "ipython3",
      "version": "3.12.11"
    }
  },
  "nbformat": 4,
  "nbformat_minor": 5
}
